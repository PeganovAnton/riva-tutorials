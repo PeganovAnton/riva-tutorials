{
 "cells": [
  {
   "cell_type": "markdown",
   "id": "78a46ff0-021f-4175-ac8b-4a90c0e1eecc",
   "metadata": {},
   "source": [
    "# VoxPopuli Dataset\n",
    "\n",
    "[VoxPopuli](https://aclanthology.org/2021.acl-long.80) is a large-scale multilingual speech corpus for representation learning, semi-supervised learning and interpretation. VoxPopuli provides:\n",
    "\n",
    "- 400K hours of unlabelled speech data for 23 languages\n",
    "- 1.8K hours of transcribed speech data for 16 languages\n",
    "- 17.3K hours of speech-to-speech interpretation data for 15x15 directions\n",
    "- 29 hours of transcribed speech data of non-native English intended for research in ASR for accented speech (15 L2 accents)\n",
    "\n",
    "The raw data is collected from 2009-2020 European Parliament event recordings. \n",
    "\n",
    "In this tutorial, we will only use the German portion of the dataset.\n",
    "\n",
    "## Download\n",
    "\n",
    "First, we install the necessary packages and download the dataset."
   ]
  },
  {
   "cell_type": "code",
   "execution_count": 3,
   "id": "a2d3d6f0-a87c-4f40-965b-2a4f05ed822f",
   "metadata": {},
   "outputs": [
    {
     "name": "stdout",
     "output_type": "stream",
     "text": [
      "Collecting tqdm (from -r requirements.txt (line 1))\n",
      "  Using cached https://files.pythonhosted.org/packages/8a/c4/d15f1e627fff25443ded77ea70a7b5532d6371498f9285d44d62587e209c/tqdm-4.64.0-py2.py3-none-any.whl\n",
      "Collecting torchaudio (from -r requirements.txt (line 2))\n",
      "  Using cached https://files.pythonhosted.org/packages/a9/4b/f5c4127441dae6fe75f2da89eb203f05c68c30e10ef24a9639d899fbdf66/torchaudio-0.10.1-cp36-cp36m-manylinux1_x86_64.whl\n",
      "Collecting num2words (from -r requirements.txt (line 3))\n",
      "  Using cached https://files.pythonhosted.org/packages/eb/a2/ea800689730732e27711c41beed4b2a129b34974435bdc450377ec407738/num2words-0.5.10-py3-none-any.whl\n",
      "Collecting edlib (from -r requirements.txt (line 4))\n",
      "  Using cached https://files.pythonhosted.org/packages/08/a3/37558fb19e54e40e360c8f3e255007d19f262c45298bf3148b92faf3311c/edlib-1.3.9-cp36-cp36m-manylinux1_x86_64.whl\n",
      "Collecting editdistance (from -r requirements.txt (line 5))\n",
      "  Using cached https://files.pythonhosted.org/packages/a0/af/8844ecb8e9d566e3be2703b2315cb90f78173a5702afc3eefa29c19e0124/editdistance-0.6.0-cp36-cp36m-manylinux1_x86_64.whl\n",
      "Collecting importlib-resources; python_version < \"3.7\" (from tqdm->-r requirements.txt (line 1))\n",
      "  Using cached https://files.pythonhosted.org/packages/24/1b/33e489669a94da3ef4562938cd306e8fa915e13939d7b8277cb5569cb405/importlib_resources-5.4.0-py3-none-any.whl\n",
      "Collecting torch==1.10.1 (from torchaudio->-r requirements.txt (line 2))\n",
      "  Using cached https://files.pythonhosted.org/packages/9a/f5/b76d021f06e50f770d3f6c1a1b50b62a69e587b1f0db7248269c4be21206/torch-1.10.1-cp36-cp36m-manylinux1_x86_64.whl\n",
      "Collecting docopt>=0.6.2 (from num2words->-r requirements.txt (line 3))\n",
      "Collecting zipp>=3.1.0; python_version < \"3.10\" (from importlib-resources; python_version < \"3.7\"->tqdm->-r requirements.txt (line 1))\n",
      "  Using cached https://files.pythonhosted.org/packages/bd/df/d4a4974a3e3957fd1c1fa3082366d7fff6e428ddb55f074bf64876f8e8ad/zipp-3.6.0-py3-none-any.whl\n",
      "Collecting typing-extensions (from torch==1.10.1->torchaudio->-r requirements.txt (line 2))\n",
      "  Using cached https://files.pythonhosted.org/packages/45/6b/44f7f8f1e110027cf88956b59f2fad776cca7e1704396d043f89effd3a0e/typing_extensions-4.1.1-py3-none-any.whl\n",
      "Collecting dataclasses; python_version < \"3.7\" (from torch==1.10.1->torchaudio->-r requirements.txt (line 2))\n",
      "  Using cached https://files.pythonhosted.org/packages/fe/ca/75fac5856ab5cfa51bbbcefa250182e50441074fdc3f803f6e76451fab43/dataclasses-0.8-py3-none-any.whl\n",
      "Installing collected packages: zipp, importlib-resources, tqdm, typing-extensions, dataclasses, torch, torchaudio, docopt, num2words, edlib, editdistance\n",
      "Successfully installed dataclasses-0.8 docopt-0.6.2 editdistance-0.6.0 edlib-1.3.9 importlib-resources-5.4.0 num2words-0.5.10 torch-1.10.1 torchaudio-0.10.1 tqdm-4.64.0 typing-extensions-4.1.1 zipp-3.6.0\n"
     ]
    },
    {
     "name": "stderr",
     "output_type": "stream",
     "text": [
      "fatal: destination path 'voxpopuli' already exists and is not an empty directory.\n"
     ]
    }
   ],
   "source": [
    "%%bash \n",
    "git clone https://github.com/facebookresearch/voxpopuli.git\n",
    "cd voxpopuli\n",
    "pip3 install -r requirements.txt"
   ]
  },
  {
   "cell_type": "markdown",
   "id": "3d61b127-2b27-453b-b00c-0b12cf0805f8",
   "metadata": {},
   "source": [
    "Next, we prepare a folder to store the raw data."
   ]
  },
  {
   "cell_type": "code",
   "execution_count": null,
   "id": "d6ac434b-22bb-4ad4-8ec0-20438e482384",
   "metadata": {},
   "outputs": [],
   "source": [
    "!mkdir -p ./data/raw/voxpopuli\n",
    "!python3 -m voxpopuli.download_audios --root ./data/raw/voxpopuli --subset asr\n"
   ]
  },
  {
   "cell_type": "code",
   "execution_count": null,
   "id": "3f6e048e-bed7-4b2b-8e92-2c9b5337e705",
   "metadata": {},
   "outputs": [],
   "source": [
    "!python3 -m voxpopuli.get_asr_data --root ./data/raw/voxpopuli --lang de"
   ]
  },
  {
   "cell_type": "markdown",
   "id": "21dc7b81-d8a6-460c-a3b7-c1a5f6e1f409",
   "metadata": {},
   "source": [
    "## Preprocessing\n",
    "\n",
    "Next, we standardize audio data and convert the raw format to NeMo manifest format.\n",
    "\n",
    "**Audio data**: Audio data acquired from various sources are inherently heterogeneous (file format, sample rate, bit depth, number of audio channels...). Therefore, as a preprocessing step, we build a separate data ingestion pipeline for each source and convert these audio data to a common format with the following characteristics:\n",
    "- Wav format\n",
    "- Bit depth: 16 bits\n",
    "- Sample rate of 16 Khz\n",
    "- Single audio channel"
   ]
  },
  {
   "cell_type": "code",
   "execution_count": 1,
   "id": "19041686-a80f-4033-afaf-4e88d8386d3f",
   "metadata": {},
   "outputs": [
    {
     "name": "stdout",
     "output_type": "stream",
     "text": [
      "100%|██████████████████████████████████| 108473/108473 [10:31<00:00, 171.78it/s]\n",
      "100%|██████████████████████████████████████| 1968/1968 [00:11<00:00, 178.26it/s]\n",
      "100%|██████████████████████████████████████| 2109/2109 [00:12<00:00, 175.65it/s]\n"
     ]
    }
   ],
   "source": [
    "!mkdir -p ./data/processed/voxpopuli\n",
    "!python3 ./data_ingestion/datasets/voxpopuli/process_voxpopuli.py --data_root=./data/raw/voxpopuli/transcribed_data --out_dir=./data/processed/voxpopuli"
   ]
  },
  {
   "cell_type": "code",
   "execution_count": null,
   "id": "c84ce8c5-49b5-416f-8e23-14e6bf4a11b5",
   "metadata": {},
   "outputs": [],
   "source": []
  }
 ],
 "metadata": {
  "kernelspec": {
   "display_name": "Python 3",
   "language": "python",
   "name": "python3"
  },
  "language_info": {
   "codemirror_mode": {
    "name": "ipython",
    "version": 3
   },
   "file_extension": ".py",
   "mimetype": "text/x-python",
   "name": "python",
   "nbconvert_exporter": "python",
   "pygments_lexer": "ipython3",
   "version": "3.6.9"
  }
 },
 "nbformat": 4,
 "nbformat_minor": 5
}
