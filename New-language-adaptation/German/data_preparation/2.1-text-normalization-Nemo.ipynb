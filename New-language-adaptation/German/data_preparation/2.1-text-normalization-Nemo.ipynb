{
 "cells": [
  {
   "cell_type": "markdown",
   "id": "fcdf84f1",
   "metadata": {},
   "source": [
    "# Text normalization\n",
    "\n"
   ]
  },
  {
   "cell_type": "code",
   "execution_count": 1,
   "id": "915d32a1",
   "metadata": {},
   "outputs": [],
   "source": [
    "#!docker run --gpus=all --net=host --rm -it -v $PWD:/myworkspace nvcr.io/nvidia/nemo:22.01 bash"
   ]
  },
  {
   "cell_type": "code",
   "execution_count": 3,
   "id": "7f4c7842",
   "metadata": {},
   "outputs": [],
   "source": [
    "from typing import List\n",
    "import os\n",
    "import json\n",
    "import multiprocessing\n",
    "\n",
    "from tqdm import tqdm\n",
    "from functools import partial\n",
    "\n",
    "from nemo_text_processing.text_normalization.normalize import Normalizer\n",
    "\n",
    "def load_jsonl(filepath):\n",
    "    data = []\n",
    "    with open(filepath, 'r', encoding='utf_8') as fp:\n",
    "        inlines = fp.readlines()\n",
    "        for line in inlines:\n",
    "            if line.startswith(\"//\") or line.strip() == '':\n",
    "                continue\n",
    "            row = json.loads(line)\n",
    "            data.append(row)\n",
    "    return data\n",
    "\n",
    "\n",
    "def dump_jsonl(filepath, data):\n",
    "    with open(filepath, 'w') as fp:\n",
    "        for datum in data:\n",
    "            row = json.dumps(datum, ensure_ascii=False)\n",
    "            fp.write(row)\n",
    "            fp.write('\\n')\n",
    "            \n",
    "def normalize_manifest(input_manifest, output_manifest, normalizer):\n",
    "    utterances = load_jsonl(input_manifest)\n",
    "    transcripts = [utt['text_original'] for utt in utterances]\n",
    "    \n",
    "    pool = multiprocessing.Pool(processes=os.cpu_count())\n",
    "    normalized_result = tqdm(pool.imap(partial(normalizer.normalize, verbose=False), transcripts))\n",
    "    for i, text in enumerate(normalized_result):\n",
    "        utterances[i]['text'] = text  \n",
    "    dump_jsonl(output_manifest, utterances)"
   ]
  },
  {
   "cell_type": "code",
   "execution_count": null,
   "id": "0ffc96d3",
   "metadata": {},
   "outputs": [
    {
     "name": "stdout",
     "output_type": "stream",
     "text": [
      "[NeMo I 2022-05-05 13:23:46 tokenize_and_classify:83] Creating ClassifyFst grammars. This might take some time...\n",
      "Processing  ./data/processed/mls/mls_train_manifest.json\n"
     ]
    },
    {
     "name": "stderr",
     "output_type": "stream",
     "text": [
      "2703it [14:12,  2.67it/s]"
     ]
    }
   ],
   "source": [
    "normalizer = Normalizer(input_case=\"cased\", lang='de')\n",
    "\n",
    "for dataset in ['mls', 'voxpopuli', 'mcv']:\n",
    "    for subset in ['train', 'dev', 'test']:        \n",
    "        input_manifest = os.path.join('./data/processed/', dataset, f\"{dataset}_{subset}_manifest.json\")\n",
    "        output_manifest = os.path.join('./data/processed/', dataset, f\"{dataset}_{subset}_manifest_normalized.json\")\n",
    "        print(\"Processing \", input_manifest)\n",
    "        normalize_manifest(input_manifest, output_manifest, normalizer)\n",
    "            "
   ]
  },
  {
   "cell_type": "code",
   "execution_count": null,
   "id": "488d2950",
   "metadata": {},
   "outputs": [],
   "source": []
  }
 ],
 "metadata": {
  "kernelspec": {
   "display_name": "Python 3 (ipykernel)",
   "language": "python",
   "name": "python3"
  },
  "language_info": {
   "codemirror_mode": {
    "name": "ipython",
    "version": 3
   },
   "file_extension": ".py",
   "mimetype": "text/x-python",
   "name": "python",
   "nbconvert_exporter": "python",
   "pygments_lexer": "ipython3",
   "version": "3.8.12"
  }
 },
 "nbformat": 4,
 "nbformat_minor": 5
}
