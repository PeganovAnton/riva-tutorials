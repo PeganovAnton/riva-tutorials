{
 "cells": [
  {
   "cell_type": "markdown",
   "id": "ac484f1a",
   "metadata": {},
   "source": [
    "# Mozilla Common Voice Corpus\n",
    "\n",
    "Mozilla Common Voice (MCV) is a large collection of dataset for speech research. Each entry in the dataset consists of a unique MP3 and corresponding text file. Many of the 20,217 recorded hours in the dataset also include demographic metadata like age, sex, and accent that can help train the accuracy of speech recognition engines.\n",
    "\n",
    "We will only make use of the German portion of the dataset, which is ~28GB.\n",
    "\n",
    "## Download\n",
    "\n",
    "First, we install some pre-requisite packages and download the data."
   ]
  },
  {
   "cell_type": "code",
   "execution_count": 1,
   "id": "9055e245",
   "metadata": {},
   "outputs": [
    {
     "name": "stdout",
     "output_type": "stream",
     "text": [
      "Reading package lists... Done\n",
      "Building dependency tree       \n",
      "Reading state information... Done\n",
      "parallel is already the newest version (20161222-1).\n",
      "wget is already the newest version (1.19.4-1ubuntu2.2).\n",
      "libsox-fmt-mp3 is already the newest version (14.4.2-3ubuntu0.18.04.1).\n",
      "sox is already the newest version (14.4.2-3ubuntu0.18.04.1).\n",
      "0 upgraded, 0 newly installed, 0 to remove and 187 not upgraded.\n"
     ]
    }
   ],
   "source": [
    "!sudo apt-get install -y wget sox libsox-fmt-mp3 parallel"
   ]
  },
  {
   "cell_type": "markdown",
   "id": "7a520cc9",
   "metadata": {},
   "source": [
    "The dataset can be downloaded from https://commonvoice.mozilla.org/en/datasets using a web interface. Upon registration, you will receive a download URL, which can be used with `wget` as follows:"
   ]
  },
  {
   "cell_type": "code",
   "execution_count": 3,
   "id": "3453f153",
   "metadata": {},
   "outputs": [
    {
     "name": "stdout",
     "output_type": "stream",
     "text": [
      "--2022-05-02 21:09:36--  http://download_url/\n",
      "Resolving download_url (download_url)... failed: Temporary failure in name resolution.\n",
      "wget: unable to resolve host address ‘download_url’\n"
     ]
    }
   ],
   "source": [
    "!mkdir -p ./data/raw/mcv\n",
    "!wget DOWNLOAD_URL -O ./data/raw/mcv/de.tar.gz"
   ]
  },
  {
   "cell_type": "markdown",
   "id": "66a34372",
   "metadata": {},
   "source": [
    "## Preprocessing\n",
    "\n",
    "Next, we standardize audio data and convert the raw format to NeMo manifest format.\n",
    "\n",
    "**Audio data**: Audio data acquired from various sources are inherently heterogeneous (file format, sample rate, bit depth, number of audio channels...). Therefore, as a preprocessing step, we build a separate data ingestion pipeline for each source and convert these audio data to a common format with the following characteristics:\n",
    "- Wav format\n",
    "- Bit depth: 16 bits\n",
    "- Sample rate of 16 Khz\n",
    "- Single audio channel\n"
   ]
  },
  {
   "cell_type": "code",
   "execution_count": 1,
   "id": "8e943ee7",
   "metadata": {},
   "outputs": [],
   "source": [
    "import os\n",
    "import sys\n",
    "\n",
    "CUR_DIR = os.getcwd()\n",
    "sys.path.insert(0, os.path.join(CUR_DIR, \"data_ingestion\"))"
   ]
  },
  {
   "cell_type": "code",
   "execution_count": 2,
   "id": "3d8da486",
   "metadata": {},
   "outputs": [
    {
     "name": "stdout",
     "output_type": "stream",
     "text": [
      "INFO:root:Find existing folder /tmp/CV_unpacked\n",
      "INFO:root:b'/tmp/CV_unpacked\\n/tmp/CV_unpacked/cv-corpus-5.1-2020-06-22\\n/tmp/CV_unpacked/cv-corpus-5.1-2020-06-22/de\\n/tmp/CV_unpacked/cv-corpus-5.1-2020-06-22/de/test.tsv\\n/tmp/CV_unpacked/cv-corpus-5.1-2020-06-22/de/other.tsv\\n/tmp/CV_unpacked/cv-corpus-5.1-2020-06-22/de/reported.tsv\\n/tmp/CV_unpacked/cv-corpus-5.1-2020-06-22/de/dev.tsv\\n/tmp/CV_unpacked/cv-corpus-5.1-2020-06-22/de/clips\\n/tmp/CV_unpacked/cv-corpus-5.1-2020-06-22/de/invalidated.tsv\\n/tmp/CV_unpacked/cv-corpus-5.1-2020-06-22/de/validated.tsv\\n/tmp/CV_unpacked/cv-corpus-5.1-2020-06-22/de/train.tsv\\n'\n",
      "INFO:root:Converting mp3 to wav using 20 workers for /tmp/CV_unpacked/cv-corpus-5.1-2020-06-22/de/test.tsv.\n",
      "INFO:root:Reading metadata using 20 workers for /tmp/CV_unpacked/cv-corpus-5.1-2020-06-22/de/test.tsv\n",
      "100%|███████████████████████████████████| 15340/15340 [00:01<00:00, 8035.96it/s]\n",
      "INFO:root:Creating manifests...\n",
      "100%|█████████████████████████████████| 15340/15340 [00:00<00:00, 138351.16it/s]\n",
      "INFO:root:Converting mp3 to wav using 20 workers for /tmp/CV_unpacked/cv-corpus-5.1-2020-06-22/de/dev.tsv.\n",
      "INFO:root:Reading metadata using 20 workers for /tmp/CV_unpacked/cv-corpus-5.1-2020-06-22/de/dev.tsv\n",
      "100%|███████████████████████████████████| 15340/15340 [00:01<00:00, 8535.11it/s]\n",
      "INFO:root:Creating manifests...\n",
      "100%|█████████████████████████████████| 15340/15340 [00:00<00:00, 146109.81it/s]\n",
      "INFO:root:Converting mp3 to wav using 20 workers for /tmp/CV_unpacked/cv-corpus-5.1-2020-06-22/de/train.tsv.\n",
      "INFO:root:Reading metadata using 20 workers for /tmp/CV_unpacked/cv-corpus-5.1-2020-06-22/de/train.tsv\n",
      "100%|█████████████████████████████████| 196403/196403 [00:20<00:00, 9382.26it/s]\n",
      "INFO:root:Creating manifests...\n",
      "100%|███████████████████████████████| 196403/196403 [00:01<00:00, 165838.93it/s]\n"
     ]
    }
   ],
   "source": [
    "!mkdir -p data/processed/mcv\n",
    "\n",
    "OUT_DIR = os.path.join(CUR_DIR, \"data/processed/mcv\")\n",
    "DATA_ROOT = os.path.join(CUR_DIR, \"data/raw/mcv\")\n",
    "\n",
    "!python3 ./data_ingestion/process_mcv.py --data_root=$DATA_ROOT --data_temp=/tmp --data_out=$OUT_DIR --manifest_dir=$OUT_DIR"
   ]
  },
  {
   "cell_type": "code",
   "execution_count": null,
   "id": "2d03d4e1",
   "metadata": {},
   "outputs": [],
   "source": []
  }
 ],
 "metadata": {
  "kernelspec": {
   "display_name": "Python 3 (ipykernel)",
   "language": "python",
   "name": "python3"
  },
  "language_info": {
   "codemirror_mode": {
    "name": "ipython",
    "version": 3
   },
   "file_extension": ".py",
   "mimetype": "text/x-python",
   "name": "python",
   "nbconvert_exporter": "python",
   "pygments_lexer": "ipython3",
   "version": "3.8.12"
  }
 },
 "nbformat": 4,
 "nbformat_minor": 5
}
