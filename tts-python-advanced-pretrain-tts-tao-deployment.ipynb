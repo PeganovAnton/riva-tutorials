{
 "cells": [
  {
   "cell_type": "markdown",
   "metadata": {},
   "source": [
    "<img src=\"http://developer.download.nvidia.com/notebooks/dlsw-notebooks/riva_tts_tts-python-advanced-pretrain-tts-tao-deployment/nvidia_logo.png\" style=\"width: 90px; float: right;\">\n",
    "\n",
    "# How to Deploy a custom TTS Models (FastPitch and HiFi-GAN) trained with TAO Toolkit Riva"
   ]
  },
  {
   "cell_type": "markdown",
   "metadata": {},
   "source": [
    "This tutorial walks you through the steps to deploy custom TTS models (FastPitch and HiFiGAN) trained with TAO Toolkit on RIVA for real-time inference."
   ]
  },
  {
   "cell_type": "markdown",
   "metadata": {},
   "source": [
    "## Overview\n",
    "\n",
    "This tutorial explores taking 2 `.riva` models, the result of `tao spectro_gen` and `tao vocoder` commands ([finetune notebook](tts-python-advanced-pretrain-tts-tao-training.ipynb)), and leveraging the Riva ServiceMaker framework to aggregate all the necessary artifacts for Riva deployment to a target environment. Once the model is deployed in Riva, you can issue inference requests to the server. We will demonstrate how quick and straightforward this whole process is.\n",
    "\n",
    "In this notebook, you will learn how to:\n",
    "\n",
    "* Use Riva ServiceMaker to take TAO exported `.riva` files and convert it to `.rmir`\n",
    "* Deploy the model(s) locally on the Riva server\n",
    "* Send inference requests from a demo client using Riva API bindings\n"
   ]
  },
  {
   "cell_type": "markdown",
   "metadata": {},
   "source": [
    "---\n",
    "## Riva ServiceMaker\n",
    "Riva ServiceMaker is a set of tools that aggregates all the necessary artifacts (models, files, configurations, and user settings)\n",
    "for Riva deployment to a target environment. It has two main components:\n",
    "\n",
    "* `riva-build`\n",
    "* `riva-deploy`\n",
    "\n",
    "### Riva-build\n",
    "\n",
    "This step helps build a Riva-ready version of the model. It’s only output is an intermediate format (called an RMIR)\n",
    "of an end-to-end pipeline for the supported services within Riva. Let's consider two TTS models.\n",
    "\n",
    "* [FastPitch](https://ngc.nvidia.com/catalog/models/nvidia:tao:speechsynthesis_english_fastpitch) (spectrogram generator)\n",
    "* [HiFi-GAN](https://ngc.nvidia.com/catalog/models/nvidia:tao:speechsynthesis_hifigan) (vocoder)<br>\n",
    "\n",
    "`riva-build` is responsible for the combination of one or more exported models (`.riva` files) into a single file\n",
    "containing an intermediate format called Riva Model Intermediate Representation (`.rmir`). This file contains a\n",
    "deployment-agnostic specification of the whole end-to-end pipeline along with all the assets required for the\n",
    "final deployment and inference. For more information, refer to the [documentation](https://docs.nvidia.com/deeplearning/riva/user-guide/docs/service-tts.html#fastpitch-and-hifi-gan-pipeline-configuration)."
   ]
  },
  {
   "cell_type": "code",
   "execution_count": 2,
   "metadata": {},
   "outputs": [],
   "source": [
    "# Important: Update these paths to point to the RIVA ServiceMaker docker and input models.\n",
    "\n",
    "# ServiceMaker Docker\n",
    "RIVA_SM_CONTAINER = \"nvcr.io/nvidia/riva/riva-speech:2.1.0-servicemaker\"\n",
    "\n",
    "# Directory where the .riva models are stored $MODEL_LOC/*.riva\n",
    "# Both the FastPitch and HiFiGAN .riva models should be present\n",
    "MODEL_LOC = \"/home/nvidia/Documents/launchpad/tts-finetune/results/models/\"\n",
    "\n",
    "# Name of the .riva file\n",
    "SPECTRO_GEN_MODEL_NAME = \"spectro_gen.riva\"\n",
    "VOCODER_MODEL_NAME = \"vocoder.riva\"\n",
    "\n",
    "# Key that model is encrypted with, while exporting with TAO\n",
    "KEY = \"tlt_encode\""
   ]
  },
  {
   "cell_type": "code",
   "execution_count": 3,
   "metadata": {},
   "outputs": [
    {
     "name": "stdout",
     "output_type": "stream",
     "text": [
      "2.1.0-servicemaker: Pulling from nvidia/riva/riva-speech\n",
      "\n",
      "\u001b[1B1a0ec47e: Pulling fs layer \n",
      "\u001b[1Bfe82c26b: Pulling fs layer \n",
      "\u001b[1B1856d1bc: Pulling fs layer \n",
      "\u001b[1Bf64065e8: Pulling fs layer \n",
      "\u001b[1B71971cd1: Pulling fs layer \n",
      "\u001b[1Bd99a5c7e: Pulling fs layer \n",
      "\u001b[1B08216c18: Pulling fs layer \n",
      "\u001b[1B74f382f7: Pulling fs layer \n",
      "\u001b[1B794ed569: Pulling fs layer \n",
      "\u001b[1Bd9e2a154: Pulling fs layer \n",
      "\u001b[1B2bfa6cba: Pulling fs layer \n",
      "\u001b[1B40dedb4f: Pulling fs layer \n",
      "\u001b[1B286a91f6: Pulling fs layer \n",
      "\u001b[1Bee293107: Pulling fs layer \n",
      "\u001b[1B2302c87a: Pulling fs layer \n",
      "\u001b[1Be6ee8cb3: Pulling fs layer \n",
      "\u001b[1B83683b2d: Pulling fs layer \n",
      "\u001b[1B7bb41e92: Pulling fs layer \n",
      "\u001b[1Be484f075: Pulling fs layer \n",
      "\u001b[1Bed353f34: Pulling fs layer \n",
      "\u001b[1Bfb01410a: Pulling fs layer \n",
      "\u001b[1Bf884bcb5: Pulling fs layer \n",
      "\u001b[1Bb6037798: Pulling fs layer \n",
      "\u001b[1B109c6a13: Pulling fs layer \n",
      "\u001b[1Bbdb55c89: Pulling fs layer \n",
      "\u001b[1Bdd7a02aa: Pulling fs layer \n",
      "\u001b[1B5fafcaba: Pulling fs layer \n",
      "\u001b[1Bf16dca7c: Pulling fs layer \n",
      "\u001b[1B7b93bb9b: Pulling fs layer \n",
      "\u001b[1B00db196e: Pulling fs layer \n",
      "\u001b[1B3139c6ce: Pulling fs layer \n",
      "\u001b[1Bb700ef54: Pulling fs layer \n",
      "\u001b[1Bf69d3e3b: Pulling fs layer \n",
      "\u001b[1B586d2893: Pulling fs layer \n",
      "\u001b[1Bfe9d97a6: Pulling fs layer \n",
      "\u001b[1Ba5d1a158: Pulling fs layer \n",
      "\u001b[1B77aacd85: Pulling fs layer \n",
      "\u001b[1B8e076667: Pulling fs layer \n",
      "\u001b[1B09dbf22a: Pulling fs layer \n",
      "\u001b[1B3545c62b: Pulling fs layer \n",
      "\u001b[1Bc50e7441: Pulling fs layer \n",
      "\u001b[1B21e1782f: Pulling fs layer \n",
      "\u001b[1B68ddbdcd: Pulling fs layer \n",
      "\u001b[1Bbcc441f5: Pulling fs layer \n",
      "\u001b[1B510f61f8: Pulling fs layer \n",
      "\u001b[1Ba4f4d48e: Pulling fs layer \n",
      "\u001b[1Bf1e8c02e: Pulling fs layer \n",
      "\u001b[45B64065e8: Waiting fs layer \n",
      "\u001b[1Be712798a: Pulling fs layer \n",
      "\u001b[1B5378261c: Pulling fs layer \n",
      "\u001b[47B1971cd1: Waiting fs layer \n",
      "\u001b[1Bc38cc585: Pulling fs layer \n",
      "\u001b[1Be31a89a1: Pulling fs layer \n",
      "\u001b[1B64b75518: Pulling fs layer \n",
      "\u001b[1B39527dc8: Pulling fs layer \n",
      "\u001b[1Bc7cc5b59: Pulling fs layer \n",
      "\u001b[1Be92310ba: Pulling fs layer \n",
      "\u001b[1B356a61e3: Pulling fs layer \n",
      "\u001b[1Be2b37482: Pulling fs layer \n",
      "\u001b[37B09c6a13: Waiting fs layer \n",
      "\u001b[1B3d032734: Pulling fs layer \n",
      "\u001b[1B004f4488: Pulling fs layer \n",
      "\u001b[25B9dbf22a: Waiting fs layer \n",
      "\u001b[1BDigest: sha256:739e252d7f9976c713bf6035e8239c939ded11155548874b91fce00324f829ae\u001b[2K\u001b[63A\u001b[2K\u001b[64A\u001b[2K\u001b[63A\u001b[2K\u001b[64A\u001b[2K\u001b[63A\u001b[2K\u001b[64A\u001b[2K\u001b[60A\u001b[2K\u001b[64A\u001b[2K\u001b[60A\u001b[2K\u001b[62A\u001b[2K\u001b[64A\u001b[2K\u001b[62A\u001b[2K\u001b[64A\u001b[2K\u001b[63A\u001b[2K\u001b[62A\u001b[2K\u001b[63A\u001b[2K\u001b[62A\u001b[2K\u001b[63A\u001b[2K\u001b[58A\u001b[2K\u001b[63A\u001b[2K\u001b[60A\u001b[2K\u001b[56A\u001b[2K\u001b[55A\u001b[2K\u001b[55A\u001b[2K\u001b[63A\u001b[2K\u001b[55A\u001b[2K\u001b[63A\u001b[2K\u001b[55A\u001b[2K\u001b[55A\u001b[2K\u001b[63A\u001b[2K\u001b[60A\u001b[2K\u001b[63A\u001b[2K\u001b[60A\u001b[2K\u001b[54A\u001b[2K\u001b[60A\u001b[2K\u001b[60A\u001b[2K\u001b[60A\u001b[2K\u001b[60A\u001b[2K\u001b[63A\u001b[2K\u001b[60A\u001b[2K\u001b[63A\u001b[2K\u001b[60A\u001b[2K\u001b[52A\u001b[2K\u001b[54A\u001b[2K\u001b[54A\u001b[2K\u001b[63A\u001b[2K\u001b[60A\u001b[2K\u001b[51A\u001b[2K\u001b[50A\u001b[2K\u001b[50A\u001b[2K\u001b[60A\u001b[2K\u001b[49A\u001b[2K\u001b[48A\u001b[2K\u001b[60A\u001b[2K\u001b[46A\u001b[2K\u001b[60A\u001b[2K\u001b[46A\u001b[2K\u001b[60A\u001b[2K\u001b[45A\u001b[2K\u001b[60A\u001b[2K\u001b[63A\u001b[2K\u001b[60A\u001b[2K\u001b[63A\u001b[2K\u001b[60A\u001b[2K\u001b[52A\u001b[2K\u001b[60A\u001b[2K\u001b[60A\u001b[2K\u001b[60A\u001b[2K\u001b[63A\u001b[2K\u001b[60A\u001b[2K\u001b[63A\u001b[2K\u001b[60A\u001b[2K\u001b[44A\u001b[2K\u001b[63A\u001b[2K\u001b[52A\u001b[2K\u001b[63A\u001b[2K\u001b[52A\u001b[2K\u001b[43A\u001b[2K\u001b[52A\u001b[2K\u001b[43A\u001b[2K\u001b[52A\u001b[2K\u001b[43A\u001b[2K\u001b[60A\u001b[2K\u001b[43A\u001b[2K\u001b[60A\u001b[2K\u001b[43A\u001b[2K\u001b[63A\u001b[2K\u001b[62A\u001b[2K\u001b[60A\u001b[2K\u001b[52A\u001b[2K\u001b[60A\u001b[2K\u001b[43A\u001b[2K\u001b[60A\u001b[2K\u001b[52A\u001b[2K\u001b[62A\u001b[2K\u001b[52A\u001b[2K\u001b[62A\u001b[2K\u001b[41A\u001b[2K\u001b[40A\u001b[2K\u001b[40A\u001b[2K\u001b[39A\u001b[2K\u001b[62A\u001b[2K\u001b[60A\u001b[2K\u001b[62A\u001b[2K\u001b[37A\u001b[2K\u001b[62A\u001b[2K\u001b[35A\u001b[2K\u001b[62A\u001b[2K\u001b[34A\u001b[2K\u001b[62A\u001b[2K\u001b[34A\u001b[2K\u001b[60A\u001b[2K\u001b[60A\u001b[2K\u001b[60A\u001b[2K\u001b[60A\u001b[2K\u001b[60A\u001b[2K\u001b[60A\u001b[2K\u001b[43A\u001b[2K\u001b[33A\u001b[2K\u001b[60A\u001b[2K\u001b[60A\u001b[2K\u001b[62A\u001b[2K\u001b[60A\u001b[2K\u001b[32A\u001b[2K\u001b[60A\u001b[2K\u001b[32A\u001b[2K\u001b[32A\u001b[2K\u001b[60A\u001b[2K\u001b[62A\u001b[2K\u001b[32A\u001b[2K\u001b[62A\u001b[2K\u001b[32A\u001b[2K\u001b[62A\u001b[2K\u001b[32A\u001b[2K\u001b[62A\u001b[2K\u001b[60A\u001b[2K\u001b[60A\u001b[2K\u001b[60A\u001b[2K\u001b[43A\u001b[2K\u001b[60A\u001b[2K\u001b[43A\u001b[2K\u001b[60A\u001b[2K\u001b[43A\u001b[2K\u001b[62A\u001b[2K\u001b[43A\u001b[2K\u001b[60A\u001b[2K\u001b[43A\u001b[2K\u001b[60A\u001b[2K\u001b[43A\u001b[2K\u001b[60A\u001b[2K\u001b[43A\u001b[2K\u001b[60A\u001b[2K\u001b[43A\u001b[2K\u001b[60A\u001b[2K\u001b[43A\u001b[2K\u001b[60A\u001b[2K\u001b[43A\u001b[2K\u001b[32A\u001b[2K\u001b[43A\u001b[2K\u001b[60A\u001b[2K\u001b[43A\u001b[2K\u001b[60A\u001b[2K\u001b[60A\u001b[2K\u001b[60A\u001b[2K\u001b[60A\u001b[2K\u001b[60A\u001b[2K\u001b[60A\u001b[2K\u001b[60A\u001b[2K\u001b[43A\u001b[2K\u001b[60A\u001b[2K\u001b[32A\u001b[2K\u001b[31A\u001b[2K\u001b[32A\u001b[2K\u001b[31A\u001b[2K\u001b[32A\u001b[2K\u001b[31A\u001b[2K\u001b[60A\u001b[2K\u001b[31A\u001b[2K\u001b[60A\u001b[2K\u001b[60A\u001b[2K\u001b[60A\u001b[2K\u001b[60A\u001b[2K\u001b[29A\u001b[2K\u001b[60A\u001b[2K\u001b[29A\u001b[2K\u001b[29A\u001b[2K\u001b[60A\u001b[2K\u001b[29A\u001b[2K\u001b[27A\u001b[2K\u001b[29A\u001b[2K\u001b[26A\u001b[2K\u001b[31A\u001b[2K\u001b[60A\u001b[2K\u001b[26A\u001b[2K\u001b[60A\u001b[2K\u001b[31A\u001b[2K\u001b[60A\u001b[2K\u001b[24A\u001b[2K\u001b[25A\u001b[2K\u001b[60A\u001b[2K\u001b[31A\u001b[2K\u001b[60A\u001b[2K\u001b[31A\u001b[2K\u001b[31A\u001b[2K\u001b[23A\u001b[2K\u001b[25A\u001b[2K\u001b[23A\u001b[2K\u001b[25A\u001b[2K\u001b[23A\u001b[2K\u001b[24A\u001b[2K\u001b[23A\u001b[2K\u001b[24A\u001b[2K\u001b[23A\u001b[2K\u001b[25A\u001b[2K\u001b[23A\u001b[2K\u001b[24A\u001b[2K\u001b[23A\u001b[2K\u001b[24A\u001b[2K\u001b[21A\u001b[2K\u001b[24A\u001b[2K\u001b[19A\u001b[2K\u001b[25A\u001b[2K\u001b[18A\u001b[2K\u001b[25A\u001b[2K\u001b[18A\u001b[2K\u001b[24A\u001b[2K\u001b[17A\u001b[2K\u001b[24A\u001b[2K\u001b[14A\u001b[2K\u001b[14A\u001b[2K\u001b[13A\u001b[2K\u001b[24A\u001b[2K\u001b[10A\u001b[2K\u001b[11A\u001b[2K\u001b[24A\u001b[2K\u001b[6A\u001b[2K\u001b[3A\u001b[2K\u001b[60A\u001b[2K\u001b[60A\u001b[2K\u001b[60A\u001b[2K\u001b[60A\u001b[2K\u001b[60A\u001b[2K\u001b[60A\u001b[2K\u001b[60A\u001b[2K\u001b[60A\u001b[2K\u001b[60A\u001b[2K\u001b[60A\u001b[2K\u001b[60A\u001b[2K\u001b[60A\u001b[2K\u001b[60A\u001b[2K\u001b[60A\u001b[2K\u001b[60A\u001b[2K\u001b[60A\u001b[2K\u001b[60A\u001b[2K\u001b[60A\u001b[2K\u001b[60A\u001b[2K\u001b[60A\u001b[2K\u001b[60A\u001b[2K\u001b[60A\u001b[2K\u001b[60A\u001b[2K\u001b[60A\u001b[2K\u001b[60A\u001b[2K\u001b[60A\u001b[2K\u001b[60A\u001b[2K\u001b[60A\u001b[2K\u001b[60A\u001b[2K\u001b[60A\u001b[2K\u001b[60A\u001b[2K\u001b[60A\u001b[2K\u001b[60A\u001b[2K\u001b[60A\u001b[2K\u001b[60A\u001b[2K\u001b[60A\u001b[2K\u001b[60A\u001b[2K\u001b[60A\u001b[2K\u001b[60A\u001b[2K\u001b[60A\u001b[2K\u001b[60A\u001b[2K\u001b[60A\u001b[2K\u001b[60A\u001b[2K\u001b[60A\u001b[2K\u001b[60A\u001b[2K\u001b[60A\u001b[2K\u001b[60A\u001b[2K\u001b[60A\u001b[2K\u001b[60A\u001b[2K\u001b[60A\u001b[2K\u001b[60A\u001b[2K\u001b[60A\u001b[2K\u001b[60A\u001b[2K\u001b[60A\u001b[2K\u001b[60A\u001b[2K\u001b[60A\u001b[2K\u001b[60A\u001b[2K\u001b[60A\u001b[2K\u001b[60A\u001b[2K\u001b[60A\u001b[2K\u001b[60A\u001b[2K\u001b[60A\u001b[2K\u001b[60A\u001b[2K\u001b[60A\u001b[2K\u001b[60A\u001b[2K\u001b[60A\u001b[2K\u001b[60A\u001b[2K\u001b[60A\u001b[2K\u001b[60A\u001b[2K\u001b[60A\u001b[2K\u001b[60A\u001b[2K\u001b[60A\u001b[2K\u001b[60A\u001b[2K\u001b[60A\u001b[2K\u001b[60A\u001b[2K\u001b[60A\u001b[2K\u001b[60A\u001b[2K\u001b[60A\u001b[2K\u001b[60A\u001b[2K\u001b[60A\u001b[2K\u001b[60A\u001b[2K\u001b[60A\u001b[2K\u001b[60A\u001b[2K\u001b[60A\u001b[2K\u001b[60A\u001b[2K\u001b[60A\u001b[2K\u001b[60A\u001b[2K\u001b[60A\u001b[2K\u001b[60A\u001b[2K\u001b[60A\u001b[2K\u001b[60A\u001b[2K\u001b[60A\u001b[2K\u001b[60A\u001b[2K\u001b[60A\u001b[2K\u001b[60A\u001b[2K\u001b[60A\u001b[2K\u001b[60A\u001b[2K\u001b[60A\u001b[2K\u001b[60A\u001b[2K\u001b[60A\u001b[2K\u001b[60A\u001b[2K\u001b[60A\u001b[2K\u001b[60A\u001b[2K\u001b[60A\u001b[2K\u001b[60A\u001b[2K\u001b[60A\u001b[2K\u001b[60A\u001b[2K\u001b[60A\u001b[2K\u001b[60A\u001b[2K\u001b[60A\u001b[2K\u001b[60A\u001b[2K\u001b[60A\u001b[2K\u001b[60A\u001b[2K\u001b[60A\u001b[2K\u001b[60A\u001b[2K\u001b[60A\u001b[2K\u001b[60A\u001b[2K\u001b[60A\u001b[2K\u001b[60A\u001b[2K\u001b[60A\u001b[2K\u001b[60A\u001b[2K\u001b[60A\u001b[2K\u001b[60A\u001b[2K\u001b[60A\u001b[2K\u001b[60A\u001b[2K\u001b[60A\u001b[2K\u001b[60A\u001b[2K\u001b[60A\u001b[2K\u001b[60A\u001b[2K\u001b[60A\u001b[2K\u001b[60A\u001b[2K\u001b[60A\u001b[2K\u001b[60A\u001b[2K\u001b[60A\u001b[2K\u001b[60A\u001b[2K\u001b[60A\u001b[2K\u001b[60A\u001b[2K\u001b[60A\u001b[2K\u001b[60A\u001b[2K\u001b[60A\u001b[2K\u001b[60A\u001b[2K\u001b[60A\u001b[2K\u001b[60A\u001b[2K\u001b[60A\u001b[2K\u001b[60A\u001b[2K\u001b[60A\u001b[2K\u001b[60A\u001b[2K\u001b[60A\u001b[2K\u001b[60A\u001b[2K\u001b[60A\u001b[2K\u001b[60A\u001b[2K\u001b[60A\u001b[2K\u001b[60A\u001b[2K\u001b[60A\u001b[2K\u001b[60A\u001b[2K\u001b[60A\u001b[2K\u001b[60A\u001b[2K\u001b[60A\u001b[2K\u001b[60A\u001b[2K\u001b[60A\u001b[2K\u001b[60A\u001b[2K\u001b[60A\u001b[2K\u001b[60A\u001b[2K\u001b[60A\u001b[2K\u001b[60A\u001b[2K\u001b[60A\u001b[2K\u001b[60A\u001b[2K\u001b[60A\u001b[2K\u001b[60A\u001b[2K\u001b[60A\u001b[2K\u001b[60A\u001b[2K\u001b[60A\u001b[2K\u001b[60A\u001b[2K\u001b[60A\u001b[2K\u001b[60A\u001b[2K\u001b[60A\u001b[2K\u001b[60A\u001b[2K\u001b[60A\u001b[2K\u001b[60A\u001b[2K\u001b[60A\u001b[2K\u001b[60A\u001b[2K\u001b[60A\u001b[2K\u001b[60A\u001b[2K\u001b[60A\u001b[2K\u001b[60A\u001b[2K\u001b[60A\u001b[2K\u001b[60A\u001b[2K\u001b[60A\u001b[2K\u001b[60A\u001b[2K\u001b[60A\u001b[2K\u001b[60A\u001b[2K\u001b[60A\u001b[2K\u001b[60A\u001b[2K\u001b[60A\u001b[2K\u001b[60A\u001b[2K\u001b[60A\u001b[2K\u001b[60A\u001b[2K\u001b[60A\u001b[2K\u001b[60A\u001b[2K\u001b[60A\u001b[2K\u001b[60A\u001b[2K\u001b[60A\u001b[2K\u001b[60A\u001b[2K\u001b[60A\u001b[2K\u001b[60A\u001b[2K\u001b[60A\u001b[2K\u001b[60A\u001b[2K\u001b[60A\u001b[2K\u001b[60A\u001b[2K\u001b[60A\u001b[2K\u001b[60A\u001b[2K\u001b[60A\u001b[2K\u001b[60A\u001b[2K\u001b[60A\u001b[2K\u001b[60A\u001b[2K\u001b[60A\u001b[2K\u001b[60A\u001b[2K\u001b[60A\u001b[2K\u001b[60A\u001b[2K\u001b[60A\u001b[2K\u001b[60A\u001b[2K\u001b[60A\u001b[2K\u001b[60A\u001b[2K\u001b[60A\u001b[2K\u001b[60A\u001b[2K\u001b[60A\u001b[2K\u001b[60A\u001b[2K\u001b[60A\u001b[2K\u001b[60A\u001b[2K\u001b[60A\u001b[2K\u001b[60A\u001b[2K\u001b[60A\u001b[2K\u001b[60A\u001b[2K\u001b[60A\u001b[2K\u001b[60A\u001b[2K\u001b[60A\u001b[2K\u001b[60A\u001b[2K\u001b[60A\u001b[2K\u001b[60A\u001b[2K\u001b[60A\u001b[2K\u001b[60A\u001b[2K\u001b[60A\u001b[2K\u001b[60A\u001b[2K\u001b[60A\u001b[2K\u001b[60A\u001b[2K\u001b[60A\u001b[2K\u001b[60A\u001b[2K\u001b[60A\u001b[2K\u001b[60A\u001b[2K\u001b[60A\u001b[2K\u001b[60A\u001b[2K\u001b[60A\u001b[2K\u001b[60A\u001b[2K\u001b[60A\u001b[2K\u001b[60A\u001b[2K\u001b[60A\u001b[2K\u001b[60A\u001b[2K\u001b[60A\u001b[2K\u001b[60A\u001b[2K\u001b[60A\u001b[2K\u001b[60A\u001b[2K\u001b[60A\u001b[2K\u001b[60A\u001b[2K\u001b[60A\u001b[2K\u001b[60A\u001b[2K\u001b[60A\u001b[2K\u001b[60A\u001b[2K\u001b[60A\u001b[2K\u001b[60A\u001b[2K\u001b[60A\u001b[2K\u001b[60A\u001b[2K\u001b[60A\u001b[2K\u001b[60A\u001b[2K\u001b[60A\u001b[2K\u001b[60A\u001b[2K\u001b[60A\u001b[2K\u001b[60A\u001b[2K\u001b[60A\u001b[2K\u001b[60A\u001b[2K\u001b[60A\u001b[2K\u001b[60A\u001b[2K\u001b[60A\u001b[2K\u001b[60A\u001b[2K\u001b[60A\u001b[2K\u001b[60A\u001b[2K\u001b[60A\u001b[2K\u001b[60A\u001b[2K\u001b[60A\u001b[2K\u001b[60A\u001b[2K\u001b[60A\u001b[2K\u001b[60A\u001b[2K\u001b[60A\u001b[2K\u001b[60A\u001b[2K\u001b[60A\u001b[2K\u001b[60A\u001b[2K\u001b[60A\u001b[2K\u001b[60A\u001b[2K\u001b[60A\u001b[2K\u001b[60A\u001b[2K\u001b[60A\u001b[2K\u001b[60A\u001b[2K\u001b[60A\u001b[2K\u001b[60A\u001b[2K\u001b[60A\u001b[2K\u001b[60A\u001b[2K\u001b[60A\u001b[2K\u001b[60A\u001b[2K\u001b[60A\u001b[2K\u001b[60A\u001b[2K\u001b[60A\u001b[2K\u001b[60A\u001b[2K\u001b[60A\u001b[2K\u001b[60A\u001b[2K\u001b[60A\u001b[2K\u001b[60A\u001b[2K\u001b[60A\u001b[2K\u001b[60A\u001b[2K\u001b[60A\u001b[2K\u001b[60A\u001b[2K\u001b[60A\u001b[2K\u001b[60A\u001b[2K\u001b[60A\u001b[2K\u001b[60A\u001b[2K\u001b[60A\u001b[2K\u001b[60A\u001b[2K\u001b[60A\u001b[2K\u001b[60A\u001b[2K\u001b[60A\u001b[2K\u001b[60A\u001b[2K\u001b[60A\u001b[2K\u001b[60A\u001b[2K\u001b[60A\u001b[2K\u001b[60A\u001b[2K\u001b[60A\u001b[2K\u001b[60A\u001b[2K\u001b[60A\u001b[2K\u001b[60A\u001b[2K\u001b[60A\u001b[2K\u001b[60A\u001b[2K\u001b[60A\u001b[2K\u001b[60A\u001b[2K\u001b[60A\u001b[2K\u001b[60A\u001b[2K\u001b[60A\u001b[2K\u001b[60A\u001b[2K\u001b[60A\u001b[2K\u001b[60A\u001b[2K\u001b[60A\u001b[2K\u001b[60A\u001b[2K\u001b[60A\u001b[2K\u001b[60A\u001b[2K\u001b[60A\u001b[2K\u001b[60A\u001b[2K\u001b[60A\u001b[2K\u001b[60A\u001b[2K\u001b[60A\u001b[2K\u001b[60A\u001b[2K\u001b[60A\u001b[2K\u001b[60A\u001b[2K\u001b[60A\u001b[2K\u001b[60A\u001b[2K\u001b[60A\u001b[2K\u001b[60A\u001b[2K\u001b[60A\u001b[2K\u001b[60A\u001b[2K\u001b[60A\u001b[2K\u001b[60A\u001b[2K\u001b[60A\u001b[2K\u001b[60A\u001b[2K\u001b[60A\u001b[2K\u001b[60A\u001b[2K\u001b[60A\u001b[2K\u001b[60A\u001b[2K\u001b[60A\u001b[2K\u001b[60A\u001b[2K\u001b[60A\u001b[2K\u001b[60A\u001b[2K\u001b[60A\u001b[2K\u001b[60A\u001b[2K\u001b[60A\u001b[2K\u001b[60A\u001b[2K\u001b[60A\u001b[2K\u001b[60A\u001b[2K\u001b[60A\u001b[2K\u001b[60A\u001b[2K\u001b[60A\u001b[2K\u001b[60A\u001b[2K\u001b[60A\u001b[2K\u001b[60A\u001b[2K\u001b[60A\u001b[2K\u001b[60A\u001b[2K\u001b[60A\u001b[2K\u001b[60A\u001b[2K\u001b[60A\u001b[2K\u001b[60A\u001b[2K\u001b[60A\u001b[2K\u001b[60A\u001b[2K\u001b[60A\u001b[2K\u001b[60A\u001b[2K\u001b[60A\u001b[2K\u001b[60A\u001b[2K\u001b[60A\u001b[2K\u001b[60A\u001b[2K\u001b[60A\u001b[2K\u001b[60A\u001b[2K\u001b[60A\u001b[2K\u001b[60A\u001b[2K\u001b[60A\u001b[2K\u001b[60A\u001b[2K\u001b[60A\u001b[2K\u001b[60A\u001b[2K\u001b[60A\u001b[2K\u001b[60A\u001b[2K\u001b[60A\u001b[2K\u001b[60A\u001b[2K\u001b[60A\u001b[2K\u001b[60A\u001b[2K\u001b[60A\u001b[2K\u001b[60A\u001b[2K\u001b[60A\u001b[2K\u001b[60A\u001b[2K\u001b[60A\u001b[2K\u001b[60A\u001b[2K\u001b[60A\u001b[2K\u001b[60A\u001b[2K\u001b[60A\u001b[2K\u001b[60A\u001b[2K\u001b[60A\u001b[2K\u001b[60A\u001b[2K\u001b[60A\u001b[2K\u001b[60A\u001b[2K\u001b[60A\u001b[2K\u001b[60A\u001b[2K\u001b[60A\u001b[2K\u001b[60A\u001b[2K\u001b[60A\u001b[2K\u001b[60A\u001b[2K\u001b[60A\u001b[2K\u001b[60A\u001b[2K\u001b[60A\u001b[2K\u001b[60A\u001b[2K\u001b[60A\u001b[2K\u001b[60A\u001b[2K\u001b[60A\u001b[2K\u001b[60A\u001b[2K\u001b[60A\u001b[2K\u001b[60A\u001b[2K\u001b[60A\u001b[2K\u001b[60A\u001b[2K\u001b[60A\u001b[2K\u001b[60A\u001b[2K\u001b[60A\u001b[2K\u001b[60A\u001b[2K\u001b[60A\u001b[2K\u001b[60A\u001b[2K\u001b[60A\u001b[2K\u001b[60A\u001b[2K\u001b[60A\u001b[2K\u001b[60A\u001b[2K\u001b[60A\u001b[2K\u001b[60A\u001b[2K\u001b[60A\u001b[2K\u001b[60A\u001b[2K\u001b[60A\u001b[2K\u001b[60A\u001b[2K\u001b[60A\u001b[2K\u001b[60A\u001b[2K\u001b[60A\u001b[2K\u001b[60A\u001b[2K\u001b[60A\u001b[2K\u001b[60A\u001b[2K\u001b[60A\u001b[2K\u001b[60A\u001b[2K\u001b[60A\u001b[2K\u001b[60A\u001b[2K\u001b[60A\u001b[2K\u001b[60A\u001b[2K\u001b[60A\u001b[2K\u001b[60A\u001b[2K\u001b[60A\u001b[2K\u001b[60A\u001b[2K\u001b[60A\u001b[2K\u001b[60A\u001b[2K\u001b[60A\u001b[2K\u001b[60A\u001b[2K\u001b[60A\u001b[2K\u001b[60A\u001b[2K\u001b[60A\u001b[2K\u001b[60A\u001b[2K\u001b[60A\u001b[2K\u001b[60A\u001b[2K\u001b[60A\u001b[2K\u001b[60A\u001b[2K\u001b[60A\u001b[2K\u001b[60A\u001b[2K\u001b[60A\u001b[2K\u001b[60A\u001b[2K\u001b[60A\u001b[2K\u001b[60A\u001b[2K\u001b[60A\u001b[2K\u001b[60A\u001b[2K\u001b[60A\u001b[2K\u001b[60A\u001b[2K\u001b[60A\u001b[2K\u001b[60A\u001b[2K\u001b[60A\u001b[2K\u001b[60A\u001b[2K\u001b[60A\u001b[2K\u001b[60A\u001b[2K\u001b[60A\u001b[2K\u001b[60A\u001b[2K\u001b[60A\u001b[2K\u001b[60A\u001b[2K\u001b[60A\u001b[2K\u001b[60A\u001b[2K\u001b[60A\u001b[2K\u001b[60A\u001b[2K\u001b[60A\u001b[2K\u001b[60A\u001b[2K\u001b[60A\u001b[2K\u001b[60A\u001b[2K\u001b[60A\u001b[2K\u001b[60A\u001b[2K\u001b[60A\u001b[2K\u001b[60A\u001b[2K\u001b[60A\u001b[2K\u001b[60A\u001b[2K\u001b[60A\u001b[2K\u001b[60A\u001b[2K\u001b[60A\u001b[2K\u001b[60A\u001b[2K\u001b[60A\u001b[2K\u001b[60A\u001b[2K\u001b[60A\u001b[2K\u001b[60A\u001b[2K\u001b[60A\u001b[2K\u001b[60A\u001b[2K\u001b[60A\u001b[2K\u001b[60A\u001b[2K\u001b[60A\u001b[2K\u001b[60A\u001b[2K\u001b[60A\u001b[2K\u001b[60A\u001b[2K\u001b[60A\u001b[2K\u001b[60A\u001b[2K\u001b[60A\u001b[2K\u001b[60A\u001b[2K\u001b[60A\u001b[2K\u001b[60A\u001b[2K\u001b[60A\u001b[2K\u001b[60A\u001b[2K\u001b[60A\u001b[2K\u001b[60A\u001b[2K\u001b[59A\u001b[2K\u001b[58A\u001b[2K\u001b[57A\u001b[2K\u001b[55A\u001b[2K\u001b[55A\u001b[2K\u001b[55A\u001b[2K\u001b[55A\u001b[2K\u001b[55A\u001b[2K\u001b[55A\u001b[2K\u001b[55A\u001b[2K\u001b[55A\u001b[2K\u001b[55A\u001b[2K\u001b[55A\u001b[2K\u001b[55A\u001b[2K\u001b[55A\u001b[2K\u001b[55A\u001b[2K\u001b[55A\u001b[2K\u001b[55A\u001b[2K\u001b[55A\u001b[2K\u001b[55A\u001b[2K\u001b[55A\u001b[2K\u001b[54A\u001b[2K\u001b[54A\u001b[2K\u001b[54A\u001b[2K\u001b[54A\u001b[2K\u001b[54A\u001b[2K\u001b[54A\u001b[2K\u001b[54A\u001b[2K\u001b[54A\u001b[2K\u001b[54A\u001b[2K\u001b[54A\u001b[2K\u001b[54A\u001b[2K\u001b[54A\u001b[2K\u001b[54A\u001b[2K\u001b[54A\u001b[2K\u001b[54A\u001b[2K\u001b[54A\u001b[2K\u001b[54A\u001b[2K\u001b[54A\u001b[2K\u001b[54A\u001b[2K\u001b[54A\u001b[2K\u001b[54A\u001b[2K\u001b[54A\u001b[2K\u001b[54A\u001b[2K\u001b[54A\u001b[2K\u001b[54A\u001b[2K\u001b[54A\u001b[2K\u001b[54A\u001b[2K\u001b[54A\u001b[2K\u001b[52A\u001b[2K\u001b[52A\u001b[2K\u001b[52A\u001b[2K\u001b[52A\u001b[2K\u001b[52A\u001b[2K\u001b[52A\u001b[2K\u001b[52A\u001b[2K\u001b[52A\u001b[2K\u001b[52A\u001b[2K\u001b[52A\u001b[2K\u001b[52A\u001b[2K\u001b[52A\u001b[2K\u001b[52A\u001b[2K\u001b[52A\u001b[2K\u001b[52A\u001b[2K\u001b[52A\u001b[2K\u001b[52A\u001b[2K\u001b[52A\u001b[2K\u001b[52A\u001b[2K\u001b[52A\u001b[2K\u001b[52A\u001b[2K\u001b[52A\u001b[2K\u001b[52A\u001b[2K\u001b[52A\u001b[2K\u001b[52A\u001b[2K\u001b[52A\u001b[2K\u001b[52A\u001b[2K\u001b[52A\u001b[2K\u001b[52A\u001b[2K\u001b[52A\u001b[2K\u001b[52A\u001b[2K\u001b[52A\u001b[2K\u001b[52A\u001b[2K\u001b[52A\u001b[2K\u001b[52A\u001b[2K\u001b[52A\u001b[2K\u001b[52A\u001b[2K\u001b[52A\u001b[2K\u001b[52A\u001b[2K\u001b[52A\u001b[2K\u001b[52A\u001b[2K\u001b[52A\u001b[2K\u001b[52A\u001b[2K\u001b[52A\u001b[2K\u001b[52A\u001b[2K\u001b[52A\u001b[2K\u001b[52A\u001b[2K\u001b[52A\u001b[2K\u001b[52A\u001b[2K\u001b[52A\u001b[2K\u001b[52A\u001b[2K\u001b[52A\u001b[2K\u001b[52A\u001b[2K\u001b[52A\u001b[2K\u001b[52A\u001b[2K\u001b[52A\u001b[2K\u001b[52A\u001b[2K\u001b[52A\u001b[2K\u001b[52A\u001b[2K\u001b[52A\u001b[2K\u001b[52A\u001b[2K\u001b[52A\u001b[2K\u001b[52A\u001b[2K\u001b[52A\u001b[2K\u001b[52A\u001b[2K\u001b[52A\u001b[2K\u001b[52A\u001b[2K\u001b[52A\u001b[2K\u001b[52A\u001b[2K\u001b[52A\u001b[2K\u001b[51A\u001b[2K\u001b[51A\u001b[2K\u001b[51A\u001b[2K\u001b[51A\u001b[2K\u001b[51A\u001b[2K\u001b[51A\u001b[2K\u001b[51A\u001b[2K\u001b[51A\u001b[2K\u001b[50A\u001b[2K\u001b[50A\u001b[2K\u001b[50A\u001b[2K\u001b[50A\u001b[2K\u001b[50A\u001b[2K\u001b[50A\u001b[2K\u001b[50A\u001b[2K\u001b[50A\u001b[2K\u001b[50A\u001b[2K\u001b[49A\u001b[2K\u001b[49A\u001b[2K\u001b[49A\u001b[2K\u001b[48A\u001b[2K\u001b[47A\u001b[2K\u001b[46A\u001b[2K\u001b[46A\u001b[2K\u001b[46A\u001b[2K\u001b[46A\u001b[2K\u001b[45A\u001b[2K\u001b[45A\u001b[2K\u001b[45A\u001b[2K\u001b[45A\u001b[2K\u001b[45A\u001b[2K\u001b[45A\u001b[2K\u001b[45A\u001b[2K\u001b[45A\u001b[2K\u001b[45A\u001b[2K\u001b[45A\u001b[2K\u001b[45A\u001b[2K\u001b[45A\u001b[2K\u001b[45A\u001b[2K\u001b[45A\u001b[2K\u001b[44A\u001b[2K\u001b[43A\u001b[2K\u001b[43A\u001b[2K\u001b[43A\u001b[2K\u001b[43A\u001b[2K\u001b[43A\u001b[2K\u001b[43A\u001b[2K\u001b[43A\u001b[2K\u001b[43A\u001b[2K\u001b[43A\u001b[2K\u001b[43A\u001b[2K\u001b[43A\u001b[2K\u001b[43A\u001b[2K\u001b[43A\u001b[2K\u001b[43A\u001b[2K\u001b[43A\u001b[2K\u001b[43A\u001b[2K\u001b[43A\u001b[2K\u001b[43A\u001b[2K\u001b[43A\u001b[2K\u001b[43A\u001b[2K\u001b[43A\u001b[2K\u001b[43A\u001b[2K\u001b[43A\u001b[2K\u001b[43A\u001b[2K\u001b[43A\u001b[2K\u001b[43A\u001b[2K\u001b[43A\u001b[2K\u001b[43A\u001b[2K\u001b[43A\u001b[2K\u001b[43A\u001b[2K\u001b[43A\u001b[2K\u001b[43A\u001b[2K\u001b[43A\u001b[2K\u001b[43A\u001b[2K\u001b[43A\u001b[2K\u001b[43A\u001b[2K\u001b[43A\u001b[2K\u001b[43A\u001b[2K\u001b[43A\u001b[2K\u001b[43A\u001b[2K\u001b[43A\u001b[2K\u001b[43A\u001b[2K\u001b[43A\u001b[2K\u001b[43A\u001b[2K\u001b[43A\u001b[2K\u001b[43A\u001b[2K\u001b[43A\u001b[2K\u001b[43A\u001b[2K\u001b[43A\u001b[2K\u001b[43A\u001b[2K\u001b[43A\u001b[2K\u001b[43A\u001b[2K\u001b[43A\u001b[2K\u001b[43A\u001b[2K\u001b[43A\u001b[2K\u001b[43A\u001b[2K\u001b[43A\u001b[2K\u001b[43A\u001b[2K\u001b[43A\u001b[2K\u001b[43A\u001b[2K\u001b[43A\u001b[2K\u001b[43A\u001b[2K\u001b[43A\u001b[2K\u001b[43A\u001b[2K\u001b[43A\u001b[2K\u001b[43A\u001b[2K\u001b[43A\u001b[2K\u001b[43A\u001b[2K\u001b[43A\u001b[2K\u001b[43A\u001b[2K\u001b[43A\u001b[2K\u001b[43A\u001b[2K\u001b[43A\u001b[2K\u001b[43A\u001b[2K\u001b[43A\u001b[2K\u001b[43A\u001b[2K\u001b[43A\u001b[2K\u001b[43A\u001b[2K\u001b[43A\u001b[2K\u001b[43A\u001b[2K\u001b[43A\u001b[2K\u001b[43A\u001b[2K\u001b[43A\u001b[2K\u001b[43A\u001b[2K\u001b[43A\u001b[2K\u001b[43A\u001b[2K\u001b[43A\u001b[2K\u001b[43A\u001b[2K\u001b[43A\u001b[2K\u001b[43A\u001b[2K\u001b[43A\u001b[2K\u001b[43A\u001b[2K\u001b[42A\u001b[2K\u001b[42A\u001b[2K\u001b[41A\u001b[2K\u001b[39A\u001b[2K\u001b[39A\u001b[2K\u001b[38A\u001b[2K\u001b[37A\u001b[2K\u001b[35A\u001b[2K\u001b[34A\u001b[2K\u001b[34A\u001b[2K\u001b[34A\u001b[2K\u001b[34A\u001b[2K\u001b[34A\u001b[2K\u001b[34A\u001b[2K\u001b[34A\u001b[2K\u001b[34A\u001b[2K\u001b[34A\u001b[2K\u001b[34A\u001b[2K\u001b[34A\u001b[2K\u001b[34A\u001b[2K\u001b[34A\u001b[2K\u001b[34A\u001b[2K\u001b[34A\u001b[2K\u001b[34A\u001b[2K\u001b[34A\u001b[2K\u001b[34A\u001b[2K\u001b[34A\u001b[2K\u001b[34A\u001b[2K\u001b[34A\u001b[2K\u001b[34A\u001b[2K\u001b[34A\u001b[2K\u001b[34A\u001b[2K\u001b[34A\u001b[2K\u001b[34A\u001b[2K\u001b[34A\u001b[2K\u001b[34A\u001b[2K\u001b[34A\u001b[2K\u001b[33A\u001b[2K\u001b[32A\u001b[2K\u001b[32A\u001b[2K\u001b[32A\u001b[2K\u001b[32A\u001b[2K\u001b[32A\u001b[2K\u001b[32A\u001b[2K\u001b[32A\u001b[2K\u001b[32A\u001b[2K\u001b[32A\u001b[2K\u001b[32A\u001b[2K\u001b[32A\u001b[2K\u001b[32A\u001b[2K\u001b[32A\u001b[2K\u001b[32A\u001b[2K\u001b[32A\u001b[2K\u001b[32A\u001b[2K\u001b[32A\u001b[2K\u001b[32A\u001b[2K\u001b[32A\u001b[2K\u001b[32A\u001b[2K\u001b[32A\u001b[2K\u001b[32A\u001b[2K\u001b[32A\u001b[2K\u001b[32A\u001b[2K\u001b[32A\u001b[2K\u001b[32A\u001b[2K\u001b[32A\u001b[2K\u001b[32A\u001b[2K\u001b[32A\u001b[2K\u001b[32A\u001b[2K\u001b[32A\u001b[2K\u001b[32A\u001b[2K\u001b[32A\u001b[2K\u001b[32A\u001b[2K\u001b[32A\u001b[2K\u001b[32A\u001b[2K\u001b[32A\u001b[2K\u001b[32A\u001b[2K\u001b[32A\u001b[2K\u001b[32A\u001b[2K\u001b[32A\u001b[2K\u001b[32A\u001b[2K\u001b[32A\u001b[2K\u001b[32A\u001b[2K\u001b[32A\u001b[2K\u001b[32A\u001b[2K\u001b[32A\u001b[2K\u001b[32A\u001b[2K\u001b[32A\u001b[2K\u001b[32A\u001b[2K\u001b[32A\u001b[2K\u001b[32A\u001b[2K\u001b[32A\u001b[2K\u001b[32A\u001b[2K\u001b[32A\u001b[2K\u001b[32A\u001b[2K\u001b[32A\u001b[2K\u001b[32A\u001b[2K\u001b[32A\u001b[2K\u001b[32A\u001b[2K\u001b[32A\u001b[2K\u001b[32A\u001b[2K\u001b[32A\u001b[2K\u001b[32A\u001b[2K\u001b[32A\u001b[2K\u001b[32A\u001b[2K\u001b[32A\u001b[2K\u001b[32A\u001b[2K\u001b[32A\u001b[2K\u001b[32A\u001b[2K\u001b[32A\u001b[2K\u001b[32A\u001b[2K\u001b[32A\u001b[2K\u001b[32A\u001b[2K\u001b[32A\u001b[2K\u001b[32A\u001b[2K\u001b[32A\u001b[2K\u001b[32A\u001b[2K\u001b[32A\u001b[2K\u001b[32A\u001b[2K\u001b[32A\u001b[2K\u001b[32A\u001b[2K\u001b[32A\u001b[2K\u001b[32A\u001b[2K\u001b[32A\u001b[2K\u001b[32A\u001b[2K\u001b[32A\u001b[2K\u001b[32A\u001b[2K\u001b[32A\u001b[2K\u001b[32A\u001b[2K\u001b[32A\u001b[2K\u001b[32A\u001b[2K\u001b[32A\u001b[2K\u001b[32A\u001b[2K\u001b[31A\u001b[2K\u001b[31A\u001b[2K\u001b[31A\u001b[2K\u001b[31A\u001b[2K\u001b[31A\u001b[2K\u001b[31A\u001b[2K\u001b[31A\u001b[2K\u001b[31A\u001b[2K\u001b[31A\u001b[2K\u001b[31A\u001b[2K\u001b[31A\u001b[2K\u001b[31A\u001b[2K\u001b[31A\u001b[2K\u001b[31A\u001b[2K\u001b[31A\u001b[2K\u001b[31A\u001b[2K\u001b[31A\u001b[2K\u001b[31A\u001b[2K\u001b[31A\u001b[2K\u001b[31A\u001b[2K\u001b[31A\u001b[2K\u001b[31A\u001b[2K\u001b[31A\u001b[2K\u001b[31A\u001b[2K\u001b[31A\u001b[2K\u001b[31A\u001b[2K\u001b[31A\u001b[2K\u001b[31A\u001b[2K\u001b[31A\u001b[2K\u001b[31A\u001b[2K\u001b[31A\u001b[2K\u001b[31A\u001b[2K\u001b[31A\u001b[2K\u001b[31A\u001b[2K\u001b[31A\u001b[2K\u001b[31A\u001b[2K\u001b[31A\u001b[2K\u001b[31A\u001b[2K\u001b[31A\u001b[2K\u001b[31A\u001b[2K\u001b[31A\u001b[2K\u001b[31A\u001b[2K\u001b[31A\u001b[2K\u001b[31A\u001b[2K\u001b[31A\u001b[2K\u001b[31A\u001b[2K\u001b[31A\u001b[2K\u001b[31A\u001b[2K\u001b[31A\u001b[2K\u001b[31A\u001b[2K\u001b[31A\u001b[2K\u001b[31A\u001b[2K\u001b[31A\u001b[2K\u001b[31A\u001b[2K\u001b[31A\u001b[2K\u001b[31A\u001b[2K\u001b[31A\u001b[2K\u001b[31A\u001b[2K\u001b[31A\u001b[2K\u001b[31A\u001b[2K\u001b[31A\u001b[2K\u001b[31A\u001b[2K\u001b[31A\u001b[2K\u001b[31A\u001b[2K\u001b[31A\u001b[2K\u001b[31A\u001b[2K\u001b[31A\u001b[2K\u001b[31A\u001b[2K\u001b[31A\u001b[2K\u001b[31A\u001b[2K\u001b[31A\u001b[2K\u001b[31A\u001b[2K\u001b[31A\u001b[2K\u001b[31A\u001b[2K\u001b[31A\u001b[2K\u001b[31A\u001b[2K\u001b[30A\u001b[2K\u001b[30A\u001b[2K\u001b[30A\u001b[2K\u001b[30A\u001b[2K\u001b[30A\u001b[2K\u001b[29A\u001b[2K\u001b[29A\u001b[2K\u001b[29A\u001b[2K\u001b[29A\u001b[2K\u001b[29A\u001b[2K\u001b[29A\u001b[2K\u001b[29A\u001b[2K\u001b[29A\u001b[2K\u001b[29A\u001b[2K\u001b[29A\u001b[2K\u001b[29A\u001b[2K\u001b[29A\u001b[2K\u001b[29A\u001b[2K\u001b[29A\u001b[2K\u001b[29A\u001b[2K\u001b[29A\u001b[2K\u001b[29A\u001b[2K\u001b[29A\u001b[2K\u001b[29A\u001b[2K\u001b[29A\u001b[2K\u001b[29A\u001b[2K\u001b[29A\u001b[2K\u001b[29A\u001b[2K\u001b[27A\u001b[2K\u001b[27A\u001b[2K\u001b[27A\u001b[2K\u001b[26A\u001b[2K\u001b[26A\u001b[2K\u001b[26A\u001b[2K\u001b[26A\u001b[2K\u001b[25A\u001b[2K\u001b[25A\u001b[2K\u001b[25A\u001b[2K\u001b[25A\u001b[2K\u001b[25A\u001b[2K\u001b[25A\u001b[2K\u001b[25A\u001b[2K\u001b[25A\u001b[2K\u001b[25A\u001b[2K\u001b[25A\u001b[2K\u001b[25A\u001b[2K\u001b[25A\u001b[2K\u001b[25A\u001b[2K\u001b[25A\u001b[2K\u001b[25A\u001b[2K\u001b[25A\u001b[2K\u001b[25A\u001b[2K\u001b[25A\u001b[2K\u001b[25A\u001b[2K\u001b[25A\u001b[2K\u001b[25A\u001b[2K\u001b[25A\u001b[2K\u001b[25A\u001b[2K\u001b[25A\u001b[2K\u001b[25A\u001b[2K\u001b[25A\u001b[2K\u001b[25A\u001b[2K\u001b[25A\u001b[2K\u001b[25A\u001b[2K\u001b[25A\u001b[2K\u001b[25A\u001b[2K\u001b[25A\u001b[2K\u001b[25A\u001b[2K\u001b[25A\u001b[2K\u001b[25A\u001b[2K\u001b[25A\u001b[2K\u001b[25A\u001b[2K\u001b[25A\u001b[2K\u001b[25A\u001b[2K\u001b[25A\u001b[2K\u001b[25A\u001b[2K\u001b[25A\u001b[2K\u001b[25A\u001b[2K\u001b[25A\u001b[2K\u001b[25A\u001b[2K\u001b[25A\u001b[2K\u001b[25A\u001b[2K\u001b[25A\u001b[2K\u001b[25A\u001b[2K\u001b[25A\u001b[2K\u001b[25A\u001b[2K\u001b[25A\u001b[2K\u001b[25A\u001b[2K\u001b[25A\u001b[2K\u001b[25A\u001b[2K\u001b[25A\u001b[2K\u001b[25A\u001b[2K\u001b[25A\u001b[2K\u001b[25A\u001b[2K\u001b[25A\u001b[2K\u001b[25A\u001b[2K\u001b[25A\u001b[2K\u001b[25A\u001b[2K\u001b[25A\u001b[2K\u001b[25A\u001b[2K\u001b[25A\u001b[2K\u001b[24A\u001b[2K\u001b[24A\u001b[2K\u001b[24A\u001b[2K\u001b[24A\u001b[2K\u001b[24A\u001b[2K\u001b[24A\u001b[2K\u001b[24A\u001b[2K\u001b[24A\u001b[2K\u001b[24A\u001b[2K\u001b[24A\u001b[2K\u001b[24A\u001b[2K\u001b[24A\u001b[2K\u001b[24A\u001b[2K\u001b[24A\u001b[2K\u001b[24A\u001b[2K\u001b[24A\u001b[2K\u001b[24A\u001b[2K\u001b[24A\u001b[2K\u001b[24A\u001b[2K\u001b[24A\u001b[2K\u001b[24A\u001b[2K\u001b[24A\u001b[2K\u001b[24A\u001b[2K\u001b[24A\u001b[2K\u001b[24A\u001b[2K\u001b[24A\u001b[2K\u001b[24A\u001b[2K\u001b[24A\u001b[2K\u001b[24A\u001b[2K\u001b[24A\u001b[2K\u001b[24A\u001b[2K\u001b[24A\u001b[2K\u001b[24A\u001b[2K\u001b[24A\u001b[2K\u001b[24A\u001b[2K\u001b[24A\u001b[2K\u001b[24A\u001b[2K\u001b[24A\u001b[2K\u001b[24A\u001b[2K\u001b[24A\u001b[2K\u001b[24A\u001b[2K\u001b[24A\u001b[2K\u001b[24A\u001b[2K\u001b[24A\u001b[2K\u001b[24A\u001b[2K\u001b[24A\u001b[2K\u001b[24A\u001b[2K\u001b[24A\u001b[2K\u001b[24A\u001b[2K\u001b[24A\u001b[2K\u001b[24A\u001b[2K\u001b[24A\u001b[2K\u001b[24A\u001b[2K\u001b[24A\u001b[2K\u001b[24A\u001b[2K\u001b[24A\u001b[2K\u001b[24A\u001b[2K\u001b[24A\u001b[2K\u001b[24A\u001b[2K\u001b[24A\u001b[2K\u001b[24A\u001b[2K\u001b[24A\u001b[2K\u001b[24A\u001b[2K\u001b[24A\u001b[2K\u001b[24A\u001b[2K\u001b[24A\u001b[2K\u001b[24A\u001b[2K\u001b[24A\u001b[2K\u001b[24A\u001b[2K\u001b[24A\u001b[2K\u001b[24A\u001b[2K\u001b[24A\u001b[2K\u001b[24A\u001b[2K\u001b[24A\u001b[2K\u001b[24A\u001b[2K\u001b[24A\u001b[2K\u001b[24A\u001b[2K\u001b[24A\u001b[2K\u001b[24A\u001b[2K\u001b[24A\u001b[2K\u001b[24A\u001b[2K\u001b[24A\u001b[2K\u001b[24A\u001b[2K\u001b[24A\u001b[2K\u001b[24A\u001b[2K\u001b[24A\u001b[2K\u001b[24A\u001b[2K\u001b[24A\u001b[2K\u001b[24A\u001b[2K\u001b[24A\u001b[2K\u001b[24A\u001b[2K\u001b[24A\u001b[2K\u001b[24A\u001b[2K\u001b[24A\u001b[2K\u001b[24A\u001b[2K\u001b[24A\u001b[2K\u001b[24A\u001b[2K\u001b[24A\u001b[2K\u001b[24A\u001b[2K\u001b[24A\u001b[2K\u001b[24A\u001b[2K\u001b[24A\u001b[2K\u001b[24A\u001b[2K\u001b[24A\u001b[2K\u001b[24A\u001b[2K\u001b[24A\u001b[2K\u001b[24A\u001b[2K\u001b[24A\u001b[2K\u001b[24A\u001b[2K\u001b[23A\u001b[2K\u001b[23A\u001b[2K\u001b[23A\u001b[2K\u001b[23A\u001b[2K\u001b[23A\u001b[2K\u001b[23A\u001b[2K\u001b[23A\u001b[2K\u001b[23A\u001b[2K\u001b[23A\u001b[2K\u001b[23A\u001b[2K\u001b[23A\u001b[2K\u001b[23A\u001b[2K\u001b[22A\u001b[2K\u001b[21A\u001b[2K\u001b[20A\u001b[2K\u001b[19A\u001b[2K\u001b[18A\u001b[2K\u001b[18A\u001b[2K\u001b[18A\u001b[2K\u001b[18A\u001b[2K\u001b[18A\u001b[2K\u001b[18A\u001b[2K\u001b[18A\u001b[2K\u001b[18A\u001b[2K\u001b[18A\u001b[2K\u001b[18A\u001b[2K\u001b[18A\u001b[2K\u001b[18A\u001b[2K\u001b[18A\u001b[2K\u001b[18A\u001b[2K\u001b[18A\u001b[2K\u001b[17A\u001b[2K\u001b[17A\u001b[2K\u001b[17A\u001b[2K\u001b[15A\u001b[2K\u001b[15A\u001b[2K\u001b[14A\u001b[2K\u001b[14A\u001b[2K\u001b[14A\u001b[2K\u001b[13A\u001b[2K\u001b[12A\u001b[2K\u001b[11A\u001b[2K\u001b[11A\u001b[2K\u001b[11A\u001b[2K\u001b[11A\u001b[2K\u001b[11A\u001b[2K\u001b[11A\u001b[2K\u001b[11A\u001b[2K\u001b[11A\u001b[2K\u001b[11A\u001b[2K\u001b[10A\u001b[2K\u001b[9A\u001b[2K\u001b[8A\u001b[2K\u001b[7A\u001b[2K\u001b[6A\u001b[2K\u001b[6A\u001b[2K\u001b[5A\u001b[2K\u001b[4A\u001b[2K\u001b[3A\u001b[2K\u001b[2A\u001b[2K\u001b[1A\u001b[2K\n",
      "Status: Downloaded newer image for nvcr.io/nvidia/riva/riva-speech:2.1.0-servicemaker\n",
      "nvcr.io/nvidia/riva/riva-speech:2.1.0-servicemaker\n"
     ]
    }
   ],
   "source": [
    "# Get the ServiceMaker docker\n",
    "! docker pull $RIVA_SM_CONTAINER"
   ]
  },
  {
   "cell_type": "code",
   "execution_count": null,
   "metadata": {},
   "outputs": [],
   "source": [
    "# Syntax: riva-build <task-name> output-dir-for-rmir/model.rmir:key dir-for-riva/model.riva:key\n",
    "! docker run --rm --gpus 0 -v $MODEL_LOC:/data $RIVA_SM_CONTAINER -- \\\n",
    "            riva-build speech_synthesis /data/tts.rmir:$KEY /data/$SPECTRO_GEN_MODEL_NAME:$KEY /data/$VOCODER_MODEL_NAME:$KEY"
   ]
  },
  {
   "cell_type": "markdown",
   "metadata": {},
   "source": [
    "### Riva-deploy\n",
    "\n",
    "The deployment tool takes as input one or more Riva Model Intermediate Representation (RMIR) files and\n",
    "a target model repository directory. It creates an ensemble configuration specifying the pipeline for\n",
    "the execution and finally writes all those assets to the output model repository directory.\n",
    "\n",
    "For the purpose of this tutorial, we will only be using the `riva-build` component."
   ]
  },
  {
   "cell_type": "markdown",
   "metadata": {},
   "source": [
    "---\n",
    "## Start the Riva Server\n",
    "\n",
    "Once the model repository is generated, we are ready to start the Riva server. From this step onwards, we need to download the [Riva Quick Start resource](https://ngc.nvidia.com/catalog/resources/nvidia:riva:riva_quickstart) from NGC."
   ]
  },
  {
   "cell_type": "code",
   "execution_count": null,
   "metadata": {},
   "outputs": [],
   "source": [
    "# Pulling Riva quick start guide\n",
    "riva_image_version=\"2.1.0\"\n",
    "! ngc registry resource download-version \"nvidia/riva/riva_quickstart:${riva_image_version}\"\n",
    "! cd ./riva_quickstart_v${riva_image_version}\n",
    "! export RIVA_DIR = $PWD"
   ]
  },
  {
   "cell_type": "markdown",
   "metadata": {},
   "source": [
    "Next, we modify the `config.sh` file to enable relevant Riva services (TTS for the FastPitch/HiFi-GAN models), provide the encryption key, and path to the model repository (`riva_model_loc`) generated in the previous step among other configurations. \n",
    "\n",
    "For example, if above the model repository is generated at `$MODEL_LOC/models`, then we will specify `riva_model_loc` as the same directory as `MODEL_LOC`. <br>\n",
    "\n",
    "Pretrained versions of models specified in `models_asr/nlp/tts` are fetched from NGC. Since we are using our custom model, we can comment it in `models_tts` (and any others that are not relevant to your use case). <br>\n",
    "\n",
    "Replace the `config.sh` present in the Riva quick start guide (which we have downloaded above) with the below one. "
   ]
  },
  {
   "cell_type": "markdown",
   "metadata": {},
   "source": [
    "#### config.sh snippet\n",
    "```\n",
    "# Enable or Disable Riva Services \n",
    "service_enabled_asr=false                                                      ## CHANGED\n",
    "service_enabled_nlp=false                                                      ## CHANGED\n",
    "service_enabled_tts=true                                                     ## CHANGED\n",
    "\n",
    "# Specify one or more GPUs to use\n",
    "# specifying more than one GPU is currently an experimental feature, and may result in undefined behaviours.\n",
    "gpus_to_use=\"device=0\"\n",
    "\n",
    "# Specify the encryption key to use to deploy models\n",
    "MODEL_DEPLOY_KEY=\"tlt_encode\"                                                  ## CHANGED\n",
    "\n",
    "# Locations to use for storing models artifacts\n",
    "#\n",
    "# If an absolute path is specified, the data will be written to that location\n",
    "# Otherwise, a docker volume will be used (default).\n",
    "#\n",
    "# riva_init.sh will create a `rmir` and `models` directory in the volume or\n",
    "# path specified. \n",
    "#\n",
    "# RMIR ($riva_model_loc/rmir)\n",
    "# Riva uses an intermediate representation (RMIR) for models\n",
    "# that are ready to deploy but not yet fully optimized for deployment. Pretrained\n",
    "# versions can be obtained from NGC (by specifying NGC models below) and will be\n",
    "# downloaded to $riva_model_loc/rmir by `riva_init.sh`\n",
    "# \n",
    "# Custom models produced by NeMo or TAO and prepared using riva-build\n",
    "# may also be copied manually to this location $(riva_model_loc/rmir).\n",
    "#\n",
    "# Models ($riva_model_loc/models)\n",
    "# During the riva_init process, the RMIR files in $riva_model_loc/rmir\n",
    "# are inspected and optimized for deployment. The optimized versions are\n",
    "# stored in $riva_model_loc/models. The riva server exclusively uses these\n",
    "# optimized versions.\n",
    "riva_model_loc=\"/home/nvidia/Documents/launchpad/tts-finetune/results/models/\"                              ## CHANGED \n",
    "\n",
    "if [[ $riva_target_arch == \"arm64\" ]]; then\n",
    "    riva_model_loc=\"`pwd`/model_repository\"\n",
    "fi\n",
    "\n",
    "# The default RMIRs are downloaded from NGC by default in the above $riva_rmir_loc directory\n",
    "# If you'd like to skip the download from NGC and use the existing RMIRs in the $riva_rmir_loc\n",
    "# then set the below $use_existing_rmirs flag to true. You can also deploy your set of custom\n",
    "# RMIRs by keeping them in the riva_rmir_loc dir and use this quickstart script with the\n",
    "# below flag to deploy them all together.\n",
    "use_existing_rmirs=false                                ## CHANGED\n",
    "\n",
    "```"
   ]
  },
  {
   "cell_type": "code",
   "execution_count": null,
   "metadata": {},
   "outputs": [],
   "source": [
    "# Ensure you have permission to execute these scripts\n",
    "! cd $RIVA_DIR && chmod +x ./riva_init.sh && chmod +x ./riva_start.sh"
   ]
  },
  {
   "cell_type": "code",
   "execution_count": null,
   "metadata": {},
   "outputs": [],
   "source": [
    "# Run Riva Init. This will fetch the containers/models\n",
    "# YOU CAN SKIP THIS STEP IF YOU DID RIVA DEPLOY\n",
    "! cd $RIVA_DIR && ./riva_init.sh config.sh"
   ]
  },
  {
   "cell_type": "code",
   "execution_count": null,
   "metadata": {},
   "outputs": [],
   "source": [
    "# Run Riva Start. This will deploy your model(s).\n",
    "! cd $RIVA_DIR && ./riva_start.sh config.sh"
   ]
  },
  {
   "cell_type": "markdown",
   "metadata": {},
   "source": [
    "NOTE: If you face any errors in getting the Riva Speech Skills server up, then repeat the above process after cleaning the existing Riva servers with the below command\n",
    "\n",
    "`! cd $RIVA_DIR && ./riva_clean.sh config.sh`"
   ]
  },
  {
   "cell_type": "markdown",
   "metadata": {},
   "source": [
    "---\n",
    "## Run Inference\n",
    "Once the Riva server is up-and-running with your models, you can send inference requests querying the server. \n",
    "\n",
    "To send gRPC requests, we will use the Riva Python API bindings.\n"
   ]
  },
  {
   "cell_type": "markdown",
   "metadata": {},
   "source": [
    "### Connect to the Riva Server and Run Inference\n",
    "Now we can actually query the Riva server. The following cell queries the Riva server (using gRPC) to yield a result."
   ]
  },
  {
   "cell_type": "code",
   "execution_count": null,
   "metadata": {},
   "outputs": [],
   "source": [
    "import grpc\n",
    "import riva_api.riva_tts_pb2 as rtts\n",
    "import riva_api.riva_tts_pb2_grpc as rtts_srv\n",
    "import riva_api.riva_audio_pb2 as ra\n",
    "import IPython.display as ipd\n",
    "import numpy as np\n",
    "\n",
    "server = \"localhost:50051\"\n",
    "\n",
    "channel = grpc.insecure_channel(server)\n",
    "client = rtts_srv.RivaSpeechSynthesisStub(channel)\n",
    "\n",
    "req = rtts.SynthesizeSpeechRequest()\n",
    "req.text = \"Is it recognize speech or wreck a nice beach?\"\n",
    "req.language_code = \"en-US\"                    # currently required to be \"en-US\"\n",
    "req.encoding = ra.AudioEncoding.LINEAR_PCM     # Supports LINEAR_PCM, FLAC, MULAW and ALAW audio encodings\n",
    "req.sample_rate_hz = 22050                     # ignored, audio returned will be 22.05KHz\n",
    "req.voice_name = \"ljspeech\"                    # ignored\n",
    "\n",
    "# For a multispeaker model, please set uncomment the line below:\n",
    "# req.voice_name = \"new_speaker.new_voice\"\n",
    "\n",
    "resp = client.Synthesize(req)\n",
    "audio_samples = np.frombuffer(resp.audio, dtype=np.float32)\n",
    "ipd.Audio(audio_samples, rate=22050)"
   ]
  },
  {
   "cell_type": "markdown",
   "metadata": {},
   "source": [
    "You can stop all Docker containers before shutting down the Jupyter kernel. **Caution: The following command will stop all running containers.**"
   ]
  },
  {
   "cell_type": "code",
   "execution_count": null,
   "metadata": {},
   "outputs": [],
   "source": [
    "! docker stop $(docker ps -a -q)"
   ]
  }
 ],
 "metadata": {
  "kernelspec": {
   "display_name": "Python 3.8.5 ('riva': venv)",
   "language": "python",
   "name": "python3"
  },
  "language_info": {
   "codemirror_mode": {
    "name": "ipython",
    "version": 3
   },
   "file_extension": ".py",
   "mimetype": "text/x-python",
   "name": "python",
   "nbconvert_exporter": "python",
   "pygments_lexer": "ipython3",
   "version": "3.8.5"
  },
  "vscode": {
   "interpreter": {
    "hash": "d07f1aa6807adb4e3490764d3413abc2e022e4483e8e90f694051be99589cf55"
   }
  }
 },
 "nbformat": 4,
 "nbformat_minor": 4
}
